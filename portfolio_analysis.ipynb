{
 "metadata": {
  "language_info": {
   "codemirror_mode": {
    "name": "ipython",
    "version": 3
   },
   "file_extension": ".py",
   "mimetype": "text/x-python",
   "name": "python",
   "nbconvert_exporter": "python",
   "pygments_lexer": "ipython3",
   "version": "3.8.5-final"
  },
  "orig_nbformat": 2,
  "kernelspec": {
   "name": "python3",
   "display_name": "Python 3",
   "language": "python"
  }
 },
 "nbformat": 4,
 "nbformat_minor": 2,
 "cells": [
  {
   "cell_type": "code",
   "execution_count": 37,
   "metadata": {},
   "outputs": [],
   "source": [
    "import os\n",
    "from datetime import datetime, timedelta\n",
    "from typing import List, Tuple\n",
    "\n",
    "import pandas as pd\n",
    "import plotly.graph_objects as go\n",
    "\n",
    "import tinvest as ti\n",
    "import requests"
   ]
  },
  {
   "cell_type": "code",
   "execution_count": 38,
   "metadata": {},
   "outputs": [
    {
     "output_type": "execute_result",
     "data": {
      "text/plain": [
       "<Response [200]>"
      ]
     },
     "metadata": {},
     "execution_count": 38
    }
   ],
   "source": [
    "api_url_base = 'https://api-invest.tinkoff.ru/openapi/sandbox'\n",
    "api_token = 't.GsFcZolOZ11aQFAnQud18tTrQ4e7HuH4MZYfDNoV3CWOnzssdwpMwcf0rrhHxkw-AKoWXyo1dAag72CuZ3KFow'\n",
    "api_headers = {'Content-Type': 'application/json', 'Authorization': 'Bearer {0}'.format(api_token)}\n",
    "\n",
    "def get_market_search_by_ticker(ticker):\n",
    "    api_url = '{0}/market/search/by-ticker'.format(api_url_base)\n",
    "    params = {'ticker': '{0}'.format(ticker)}\n",
    "    return requests.get(api_url, headers=api_headers, params=params)\n",
    "\n",
    "get_market_search_by_ticker('AAPL')"
   ]
  },
  {
   "cell_type": "code",
   "execution_count": 26,
   "metadata": {},
   "outputs": [],
   "source": [
    "df = get_market_search_by_ticker('AAPL')"
   ]
  },
  {
   "cell_type": "code",
   "execution_count": 28,
   "metadata": {},
   "outputs": [
    {
     "output_type": "execute_result",
     "data": {
      "text/plain": [
       "requests.models.Response"
      ]
     },
     "metadata": {},
     "execution_count": 28
    }
   ],
   "source": [
    "type(df)"
   ]
  },
  {
   "cell_type": "code",
   "execution_count": 39,
   "metadata": {},
   "outputs": [],
   "source": [
    "import asyncio\n",
    "import tinvest as ti"
   ]
  },
  {
   "cell_type": "code",
   "execution_count": 40,
   "metadata": {},
   "outputs": [],
   "source": [
    "SANDBOX_TOKEN = api_token\n",
    "TOKEN = api_token"
   ]
  },
  {
   "cell_type": "code",
   "execution_count": 41,
   "metadata": {},
   "outputs": [
    {
     "output_type": "stream",
     "name": "stderr",
     "text": [
      "Unclosed client session\nclient_session: <aiohttp.client.ClientSession object at 0x000002A327DF1D90>\n"
     ]
    }
   ],
   "source": [
    "client = ti.AsyncClient(SANDBOX_TOKEN, use_sandbox=True)"
   ]
  },
  {
   "cell_type": "code",
   "execution_count": 43,
   "metadata": {},
   "outputs": [],
   "source": [
    "\n",
    "def main() -> None:\n",
    "    payload = client.get_portfolio().payload\n",
    "    figis = [(p.figi, p.name) for p in payload.positions]\n",
    "    fig = get_figure(figis)\n",
    "    fig.update_layout(xaxis_rangeslider_visible=False)\n",
    "    fig.show()\n"
   ]
  },
  {
   "cell_type": "code",
   "execution_count": 44,
   "metadata": {},
   "outputs": [],
   "source": [
    "def get_figure(figis: List[Tuple[str, str]]) -> go.Figure:\n",
    "    return go.Figure(\n",
    "        data=[get_candlesstick(get_figi_data(figi), figi, name) for figi, name in figis]\n",
    "    )"
   ]
  },
  {
   "cell_type": "code",
   "execution_count": 45,
   "metadata": {},
   "outputs": [],
   "source": [
    "\n",
    "def get_candlesstick(df: pd.DataFrame, figi: str, name: str) -> go.Candlestick:\n",
    "    return go.Candlestick(\n",
    "        name=f'{name} {figi}',\n",
    "        x=df['time'],\n",
    "        open=df['o'],\n",
    "        high=df['h'],\n",
    "        low=df['l'],\n",
    "        close=df['c'],\n",
    "    )"
   ]
  },
  {
   "cell_type": "code",
   "execution_count": 46,
   "metadata": {},
   "outputs": [],
   "source": [
    "def get_figi_data(figi: str) -> pd.DataFrame:\n",
    "    now = datetime.now()\n",
    "    payload = client.get_market_candles(\n",
    "        figi=figi,\n",
    "        from_=now - timedelta(days=31 * 12),\n",
    "        to=now,\n",
    "        interval=ti.CandleResolution.week,\n",
    "    ).payload\n",
    "    return pd.DataFrame(c.dict() for c in payload.candles)"
   ]
  },
  {
   "cell_type": "code",
   "execution_count": 52,
   "metadata": {},
   "outputs": [],
   "source": [
    "client = ti.SyncClient(os.getenv('TINVEST_TOKEN',SANDBOX_TOKEN))"
   ]
  },
  {
   "cell_type": "code",
   "execution_count": 53,
   "metadata": {},
   "outputs": [
    {
     "output_type": "error",
     "ename": "UnexpectedError",
     "evalue": "500 {\"trackingId\":\"b724293542927231\",\"payload\":{\"message\":\"Invalid token scopes\",\"code\":\"GATEWAY_REQUEST_DATA_ERROR\"},\"status\":\"Error\"}",
     "traceback": [
      "\u001b[1;31m---------------------------------------------------------------------------\u001b[0m",
      "\u001b[1;31mUnexpectedError\u001b[0m                           Traceback (most recent call last)",
      "\u001b[1;32m<ipython-input-53-f6aec5061885>\u001b[0m in \u001b[0;36m<module>\u001b[1;34m\u001b[0m\n\u001b[0;32m      1\u001b[0m \u001b[1;31m#if __name__ == '__main__':\u001b[0m\u001b[1;33m\u001b[0m\u001b[1;33m\u001b[0m\u001b[1;33m\u001b[0m\u001b[0m\n\u001b[0;32m      2\u001b[0m \u001b[1;31m#    main()\u001b[0m\u001b[1;33m\u001b[0m\u001b[1;33m\u001b[0m\u001b[1;33m\u001b[0m\u001b[0m\n\u001b[1;32m----> 3\u001b[1;33m \u001b[0mmain\u001b[0m\u001b[1;33m(\u001b[0m\u001b[1;33m)\u001b[0m\u001b[1;33m\u001b[0m\u001b[1;33m\u001b[0m\u001b[0m\n\u001b[0m",
      "\u001b[1;32m<ipython-input-43-a50e5cf2045b>\u001b[0m in \u001b[0;36mmain\u001b[1;34m()\u001b[0m\n\u001b[0;32m      1\u001b[0m \u001b[1;32mdef\u001b[0m \u001b[0mmain\u001b[0m\u001b[1;33m(\u001b[0m\u001b[1;33m)\u001b[0m \u001b[1;33m->\u001b[0m \u001b[1;32mNone\u001b[0m\u001b[1;33m:\u001b[0m\u001b[1;33m\u001b[0m\u001b[1;33m\u001b[0m\u001b[0m\n\u001b[1;32m----> 2\u001b[1;33m     \u001b[0mpayload\u001b[0m \u001b[1;33m=\u001b[0m \u001b[0mclient\u001b[0m\u001b[1;33m.\u001b[0m\u001b[0mget_portfolio\u001b[0m\u001b[1;33m(\u001b[0m\u001b[1;33m)\u001b[0m\u001b[1;33m.\u001b[0m\u001b[0mpayload\u001b[0m\u001b[1;33m\u001b[0m\u001b[1;33m\u001b[0m\u001b[0m\n\u001b[0m\u001b[0;32m      3\u001b[0m     \u001b[0mfigis\u001b[0m \u001b[1;33m=\u001b[0m \u001b[1;33m[\u001b[0m\u001b[1;33m(\u001b[0m\u001b[0mp\u001b[0m\u001b[1;33m.\u001b[0m\u001b[0mfigi\u001b[0m\u001b[1;33m,\u001b[0m \u001b[0mp\u001b[0m\u001b[1;33m.\u001b[0m\u001b[0mname\u001b[0m\u001b[1;33m)\u001b[0m \u001b[1;32mfor\u001b[0m \u001b[0mp\u001b[0m \u001b[1;32min\u001b[0m \u001b[0mpayload\u001b[0m\u001b[1;33m.\u001b[0m\u001b[0mpositions\u001b[0m\u001b[1;33m]\u001b[0m\u001b[1;33m\u001b[0m\u001b[1;33m\u001b[0m\u001b[0m\n\u001b[0;32m      4\u001b[0m     \u001b[0mfig\u001b[0m \u001b[1;33m=\u001b[0m \u001b[0mget_figure\u001b[0m\u001b[1;33m(\u001b[0m\u001b[0mfigis\u001b[0m\u001b[1;33m)\u001b[0m\u001b[1;33m\u001b[0m\u001b[1;33m\u001b[0m\u001b[0m\n\u001b[0;32m      5\u001b[0m     \u001b[0mfig\u001b[0m\u001b[1;33m.\u001b[0m\u001b[0mupdate_layout\u001b[0m\u001b[1;33m(\u001b[0m\u001b[0mxaxis_rangeslider_visible\u001b[0m\u001b[1;33m=\u001b[0m\u001b[1;32mFalse\u001b[0m\u001b[1;33m)\u001b[0m\u001b[1;33m\u001b[0m\u001b[1;33m\u001b[0m\u001b[0m\n",
      "\u001b[1;32m~\\anaconda3\\lib\\site-packages\\tinvest\\clients.py\u001b[0m in \u001b[0;36mget_portfolio\u001b[1;34m(self, broker_account_id)\u001b[0m\n\u001b[0;32m    624\u001b[0m         \u001b[0mbroker_account_id\u001b[0m\u001b[1;33m:\u001b[0m \u001b[0mOptional\u001b[0m\u001b[1;33m[\u001b[0m\u001b[0mstr\u001b[0m\u001b[1;33m]\u001b[0m \u001b[1;33m=\u001b[0m \u001b[1;32mNone\u001b[0m\u001b[1;33m,\u001b[0m\u001b[1;33m\u001b[0m\u001b[1;33m\u001b[0m\u001b[0m\n\u001b[0;32m    625\u001b[0m     ) -> PortfolioResponse:\n\u001b[1;32m--> 626\u001b[1;33m         return portfolio_get(\n\u001b[0m\u001b[0;32m    627\u001b[0m             \u001b[0mself\u001b[0m\u001b[1;33m.\u001b[0m\u001b[0m_request\u001b[0m\u001b[1;33m,\u001b[0m\u001b[1;33m\u001b[0m\u001b[1;33m\u001b[0m\u001b[0m\n\u001b[0;32m    628\u001b[0m             \u001b[0mbroker_account_id\u001b[0m\u001b[1;33m,\u001b[0m\u001b[1;33m\u001b[0m\u001b[1;33m\u001b[0m\u001b[0m\n",
      "\u001b[1;32m~\\anaconda3\\lib\\site-packages\\tinvest\\apis.py\u001b[0m in \u001b[0;36mportfolio_get\u001b[1;34m(request, broker_account_id)\u001b[0m\n\u001b[0;32m    223\u001b[0m     \u001b[1;32mif\u001b[0m \u001b[0mbroker_account_id\u001b[0m\u001b[1;33m:\u001b[0m\u001b[1;33m\u001b[0m\u001b[1;33m\u001b[0m\u001b[0m\n\u001b[0;32m    224\u001b[0m         \u001b[0mparams\u001b[0m\u001b[1;33m.\u001b[0m\u001b[0msetdefault\u001b[0m\u001b[1;33m(\u001b[0m\u001b[1;34m'brokerAccountId'\u001b[0m\u001b[1;33m,\u001b[0m \u001b[0mbroker_account_id\u001b[0m\u001b[1;33m)\u001b[0m\u001b[1;33m\u001b[0m\u001b[1;33m\u001b[0m\u001b[0m\n\u001b[1;32m--> 225\u001b[1;33m     \u001b[1;32mreturn\u001b[0m \u001b[0mrequest\u001b[0m\u001b[1;33m(\u001b[0m\u001b[1;34m'GET'\u001b[0m\u001b[1;33m,\u001b[0m \u001b[1;34m'/portfolio'\u001b[0m\u001b[1;33m,\u001b[0m \u001b[0mresponse_model\u001b[0m\u001b[1;33m=\u001b[0m\u001b[0mPortfolioResponse\u001b[0m\u001b[1;33m,\u001b[0m \u001b[1;33m**\u001b[0m\u001b[0mkwargs\u001b[0m\u001b[1;33m)\u001b[0m\u001b[1;33m\u001b[0m\u001b[1;33m\u001b[0m\u001b[0m\n\u001b[0m\u001b[0;32m    226\u001b[0m \u001b[1;33m\u001b[0m\u001b[0m\n\u001b[0;32m    227\u001b[0m \u001b[1;33m\u001b[0m\u001b[0m\n",
      "\u001b[1;32m~\\anaconda3\\lib\\site-packages\\tinvest\\clients.py\u001b[0m in \u001b[0;36m_request\u001b[1;34m(self, method, path, response_model, **kwargs)\u001b[0m\n\u001b[0;32m    530\u001b[0m             \u001b[1;32mraise\u001b[0m \u001b[0mTooManyRequestsError\u001b[0m\u001b[1;33m\u001b[0m\u001b[1;33m\u001b[0m\u001b[0m\n\u001b[0;32m    531\u001b[0m \u001b[1;33m\u001b[0m\u001b[0m\n\u001b[1;32m--> 532\u001b[1;33m         \u001b[1;32mraise\u001b[0m \u001b[0mUnexpectedError\u001b[0m\u001b[1;33m(\u001b[0m\u001b[0mresponse\u001b[0m\u001b[1;33m.\u001b[0m\u001b[0mstatus_code\u001b[0m\u001b[1;33m,\u001b[0m \u001b[0mresponse\u001b[0m\u001b[1;33m.\u001b[0m\u001b[0mtext\u001b[0m\u001b[1;33m)\u001b[0m\u001b[1;33m\u001b[0m\u001b[1;33m\u001b[0m\u001b[0m\n\u001b[0m\u001b[0;32m    533\u001b[0m \u001b[1;33m\u001b[0m\u001b[0m\n\u001b[0;32m    534\u001b[0m     def register_sandbox_account(\n",
      "\u001b[1;31mUnexpectedError\u001b[0m: 500 {\"trackingId\":\"b724293542927231\",\"payload\":{\"message\":\"Invalid token scopes\",\"code\":\"GATEWAY_REQUEST_DATA_ERROR\"},\"status\":\"Error\"}"
     ]
    }
   ],
   "source": [
    "\n",
    "#if __name__ == '__main__':\n",
    "#    main()\n",
    "main()"
   ]
  },
  {
   "cell_type": "code",
   "execution_count": 42,
   "metadata": {},
   "outputs": [
    {
     "output_type": "error",
     "ename": "AttributeError",
     "evalue": "'coroutine' object has no attribute 'payload'",
     "traceback": [
      "\u001b[1;31m---------------------------------------------------------------------------\u001b[0m",
      "\u001b[1;31mAttributeError\u001b[0m                            Traceback (most recent call last)",
      "\u001b[1;32m<ipython-input-42-3d7f6c38485e>\u001b[0m in \u001b[0;36m<module>\u001b[1;34m\u001b[0m\n\u001b[0;32m     39\u001b[0m \u001b[1;33m\u001b[0m\u001b[0m\n\u001b[0;32m     40\u001b[0m \u001b[1;32mif\u001b[0m \u001b[0m__name__\u001b[0m \u001b[1;33m==\u001b[0m \u001b[1;34m'__main__'\u001b[0m\u001b[1;33m:\u001b[0m\u001b[1;33m\u001b[0m\u001b[1;33m\u001b[0m\u001b[0m\n\u001b[1;32m---> 41\u001b[1;33m     \u001b[0mmain\u001b[0m\u001b[1;33m(\u001b[0m\u001b[1;33m)\u001b[0m\u001b[1;33m\u001b[0m\u001b[1;33m\u001b[0m\u001b[0m\n\u001b[0m",
      "\u001b[1;32m<ipython-input-42-3d7f6c38485e>\u001b[0m in \u001b[0;36mmain\u001b[1;34m()\u001b[0m\n\u001b[0;32m      3\u001b[0m \u001b[1;33m\u001b[0m\u001b[0m\n\u001b[0;32m      4\u001b[0m \u001b[1;32mdef\u001b[0m \u001b[0mmain\u001b[0m\u001b[1;33m(\u001b[0m\u001b[1;33m)\u001b[0m \u001b[1;33m->\u001b[0m \u001b[1;32mNone\u001b[0m\u001b[1;33m:\u001b[0m\u001b[1;33m\u001b[0m\u001b[1;33m\u001b[0m\u001b[0m\n\u001b[1;32m----> 5\u001b[1;33m     \u001b[0mpayload\u001b[0m \u001b[1;33m=\u001b[0m \u001b[0mclient\u001b[0m\u001b[1;33m.\u001b[0m\u001b[0mget_portfolio\u001b[0m\u001b[1;33m(\u001b[0m\u001b[1;33m)\u001b[0m\u001b[1;33m.\u001b[0m\u001b[0mpayload\u001b[0m\u001b[1;33m\u001b[0m\u001b[1;33m\u001b[0m\u001b[0m\n\u001b[0m\u001b[0;32m      6\u001b[0m     \u001b[0mfigis\u001b[0m \u001b[1;33m=\u001b[0m \u001b[1;33m[\u001b[0m\u001b[1;33m(\u001b[0m\u001b[0mp\u001b[0m\u001b[1;33m.\u001b[0m\u001b[0mfigi\u001b[0m\u001b[1;33m,\u001b[0m \u001b[0mp\u001b[0m\u001b[1;33m.\u001b[0m\u001b[0mname\u001b[0m\u001b[1;33m)\u001b[0m \u001b[1;32mfor\u001b[0m \u001b[0mp\u001b[0m \u001b[1;32min\u001b[0m \u001b[0mpayload\u001b[0m\u001b[1;33m.\u001b[0m\u001b[0mpositions\u001b[0m\u001b[1;33m]\u001b[0m\u001b[1;33m\u001b[0m\u001b[1;33m\u001b[0m\u001b[0m\n\u001b[0;32m      7\u001b[0m     \u001b[0mfig\u001b[0m \u001b[1;33m=\u001b[0m \u001b[0mget_figure\u001b[0m\u001b[1;33m(\u001b[0m\u001b[0mfigis\u001b[0m\u001b[1;33m)\u001b[0m\u001b[1;33m\u001b[0m\u001b[1;33m\u001b[0m\u001b[0m\n",
      "\u001b[1;31mAttributeError\u001b[0m: 'coroutine' object has no attribute 'payload'"
     ]
    }
   ],
   "source": [
    "\n",
    "#client = ti.SyncClient(os.getenv('TINVEST_TOKEN', api_token))\n",
    "\n",
    "\n",
    "\n",
    "\n",
    "\n"
   ]
  },
  {
   "cell_type": "code",
   "execution_count": 36,
   "metadata": {},
   "outputs": [
    {
     "output_type": "error",
     "ename": "ModuleNotFoundError",
     "evalue": "No module named 'openapi_client'",
     "traceback": [
      "\u001b[1;31m---------------------------------------------------------------------------\u001b[0m",
      "\u001b[1;31mModuleNotFoundError\u001b[0m                       Traceback (most recent call last)",
      "\u001b[1;32m<ipython-input-36-2d2fc25ebbe1>\u001b[0m in \u001b[0;36m<module>\u001b[1;34m\u001b[0m\n\u001b[1;32m----> 1\u001b[1;33m \u001b[1;32mfrom\u001b[0m \u001b[0mopenapi_client\u001b[0m \u001b[1;32mimport\u001b[0m \u001b[0mopenapi\u001b[0m\u001b[1;33m\u001b[0m\u001b[1;33m\u001b[0m\u001b[0m\n\u001b[0m\u001b[0;32m      2\u001b[0m \u001b[1;32mfrom\u001b[0m \u001b[0mdatetime\u001b[0m \u001b[1;32mimport\u001b[0m \u001b[0mdatetime\u001b[0m\u001b[1;33m,\u001b[0m \u001b[0mtimedelta\u001b[0m\u001b[1;33m\u001b[0m\u001b[1;33m\u001b[0m\u001b[0m\n\u001b[0;32m      3\u001b[0m \u001b[1;32mfrom\u001b[0m \u001b[0mpytz\u001b[0m \u001b[1;32mimport\u001b[0m \u001b[0mtimezone\u001b[0m\u001b[1;33m\u001b[0m\u001b[1;33m\u001b[0m\u001b[0m\n\u001b[0;32m      4\u001b[0m \u001b[1;33m\u001b[0m\u001b[0m\n\u001b[0;32m      5\u001b[0m \u001b[0mtoken\u001b[0m \u001b[1;33m=\u001b[0m \u001b[0mapi_token\u001b[0m\u001b[1;33m\u001b[0m\u001b[1;33m\u001b[0m\u001b[0m\n",
      "\u001b[1;31mModuleNotFoundError\u001b[0m: No module named 'openapi_client'"
     ]
    }
   ],
   "source": [
    "from openapi_client import openapi\n",
    "from datetime import datetime, timedelta\n",
    "from pytz import timezone\n",
    "\n",
    "token = api_token\n",
    "client = openapi.sandbox_api_client(token)\n",
    "client.sandbox.sandbox_register_post()\n",
    "client.sandbox.sandbox_clear_post()\n",
    "client.sandbox.sandbox_currencies_balance_post(sandbox_set_currency_balance_request={\"currency\": \"USD\", \"balance\": 1000})\n",
    "\n"
   ]
  },
  {
   "cell_type": "code",
   "execution_count": null,
   "metadata": {},
   "outputs": [],
   "source": [
    "\n",
    "def set_balance():\n",
    "    balance_set = client.sandbox.sandbox_currencies_balance_post({\"currency\": \"USD\", \"balance\": 10000})\n",
    "    print(\"balance\")\n",
    "    print(balance_set)\n",
    "    print()\n",
    "\n",
    "\n",
    "def print_24hr_operations():\n",
    "    now = datetime.now(tz=timezone('Europe/Moscow'))\n",
    "    yesterday = now - timedelta(days=1)\n",
    "    ops = client.operations.operations_get(_from=yesterday.isoformat(), to=now.isoformat())\n",
    "    print(\"operations\")\n",
    "    print(ops)\n",
    "    print()\n",
    "\n",
    "\n",
    "def print_orders():\n",
    "    orders = client.orders.orders_get()\n",
    "    print(\"active orders\")\n",
    "    print(orders)\n",
    "    print()\n",
    "\n",
    "\n",
    "def make_order():\n",
    "    order_response = client.orders.orders_limit_order_post(figi='BBG009S39JX6',\n",
    "                                                           limit_order_request={\"lots\": 1,\n",
    "                                                                                \"operation\": \"Buy\",\n",
    "                                                                                \"price\": 0.01})\n",
    "    print(\"make order\")\n",
    "    print(order_response)\n",
    "    print()\n",
    "    return order_response\n",
    "\n",
    "\n",
    "# won't work in sandbox - orders are being instantly executed\n",
    "def cancel_order(order_id):\n",
    "    cancellation_result = client.orders.orders_cancel_post(order_id=order_id)\n",
    "    print(\"cancel order\")\n",
    "    print(cancellation_result)\n",
    "    print()\n",
    "\n",
    "\n",
    "set_balance()\n",
    "print_24hr_operations()\n",
    "print_orders()\n",
    "order_response = make_order()\n",
    "print_orders()\n",
    "# cancel_order(order_response.payload.order_id)\n",
    "# print_orders()"
   ]
  }
 ]
}